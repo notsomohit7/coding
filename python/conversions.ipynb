{
 "cells": [
  {
   "cell_type": "markdown",
   "id": "adb4d8ad",
   "metadata": {},
   "source": [
    "## lists dictionary and tuples conversions"
   ]
  },
  {
   "cell_type": "code",
   "execution_count": null,
   "id": "767a7a2e",
   "metadata": {},
   "outputs": [],
   "source": [
    "#list to list\n",
    "nums = [1, 2, 3, 4]\n",
    "result = []\n",
    "\n",
    "for x in nums:\n",
    "    result.append(x)\n",
    "print(result)"
   ]
  },
  {
   "cell_type": "code",
   "execution_count": 5,
   "id": "9ecaf30f",
   "metadata": {},
   "outputs": [
    {
     "name": "stdout",
     "output_type": "stream",
     "text": [
      "[1, 2, 3, 4, 5, 6]\n"
     ]
    }
   ],
   "source": [
    "##Flatten a nested list\n",
    "nested = [[1, 2], [3, 4], [5, 6]]\n",
    "flat = []\n",
    "\n",
    "for sublist in nested:\n",
    "    for x in sublist:\n",
    "        flat.append(x)\n",
    "print(flat)"
   ]
  },
  {
   "cell_type": "code",
   "execution_count": 6,
   "id": "9a9f7c82",
   "metadata": {},
   "outputs": [
    {
     "name": "stdout",
     "output_type": "stream",
     "text": [
      "{'name': 'John', 'age': 25, 'city': 'New York'}\n"
     ]
    }
   ],
   "source": [
    "##List → Dict\n",
    "#Convert two lists into a dictionary.\n",
    "\n",
    "keys = [\"name\", \"age\", \"city\"]\n",
    "values = [\"John\", 25, \"New York\"]\n",
    "my_dict = {}\n",
    "for x in range(len(keys)):\n",
    "    my_dict[keys[x]] = values[x]\n",
    "print(my_dict)"
   ]
  },
  {
   "cell_type": "code",
   "execution_count": 8,
   "id": "84cc6ef4",
   "metadata": {},
   "outputs": [
    {
     "name": "stdout",
     "output_type": "stream",
     "text": [
      "{'a': 1, 'b': 2, 'c': 3}\n"
     ]
    }
   ],
   "source": [
    "#Convert a list of tuples into a dictionary.\n",
    "\n",
    "pairs = [(\"a\", 1), (\"b\", 2), (\"c\", 3)]\n",
    "my_dict = {}\n",
    "\n",
    "for pair in pairs:\n",
    "    for x in range(len(pair)):\n",
    "        if x==0:\n",
    "            key = pair[x]\n",
    "        else:\n",
    "            value = pair[x]\n",
    "    my_dict[key] = value\n",
    "print(my_dict)"
   ]
  },
  {
   "cell_type": "code",
   "execution_count": 10,
   "id": "81aa1124",
   "metadata": {},
   "outputs": [
    {
     "name": "stdout",
     "output_type": "stream",
     "text": [
      "[('a', 1), ('b', 2), ('c', 3)]\n"
     ]
    }
   ],
   "source": [
    "#Convert dictionary to list of tuples\n",
    "my_dict = {\"a\": 1, \"b\": 2, \"c\": 3}\n",
    "tuple_list = []\n",
    "\n",
    "for k,v in my_dict.items():\n",
    "    tuple_list.append((k,v))\n",
    "print(tuple_list)"
   ]
  },
  {
   "cell_type": "code",
   "execution_count": 11,
   "id": "3edf0711",
   "metadata": {},
   "outputs": [
    {
     "name": "stdout",
     "output_type": "stream",
     "text": [
      "{1: 'a', 2: 'b', 3: 'c'}\n"
     ]
    }
   ],
   "source": [
    "##Dict → Dict (Transformations)\n",
    "#Swap keys and values in a dictionary.\n",
    "my_dict = {\"a\": 1, \"b\": 2, \"c\": 3}\n",
    "swapped = {}\n",
    "\n",
    "for k,v in my_dict.items():\n",
    "    swapped[v] = k\n",
    "print(swapped)"
   ]
  },
  {
   "cell_type": "code",
   "execution_count": null,
   "id": "b39a8b13",
   "metadata": {},
   "outputs": [
    {
     "name": "stdout",
     "output_type": "stream",
     "text": [
      "{'a': 1, 'b': 2, 'c': 3, 'd': 4}\n"
     ]
    }
   ],
   "source": [
    "#Merge two dictionaries\n",
    "dict1 = {\"a\": 1, \"b\": 2}\n",
    "dict2 = {\"c\": 3, \"d\": 4}\n",
    "merged = {}\n",
    "\n",
    "for k,v in dict1.items():\n",
    "    merged[k] = v\n",
    "for k,v in dict2.items():\n",
    "    merged[k] = v\n",
    "print(merged)"
   ]
  },
  {
   "cell_type": "code",
   "execution_count": 12,
   "id": "ba115691",
   "metadata": {},
   "outputs": [
    {
     "name": "stdout",
     "output_type": "stream",
     "text": [
      "{'a': 1, 'b': 5, 'c': 4}\n"
     ]
    }
   ],
   "source": [
    "#Add values of same keys when merging dictionaries\n",
    "dict1 = {\"a\": 1, \"b\": 2}\n",
    "dict2 = {\"b\": 3, \"c\": 4}\n",
    "merged = {}\n",
    "\n",
    "for k,v in dict1.items():\n",
    "    merged[k] = v\n",
    "for k,v in dict2.items():\n",
    "    if k in merged:\n",
    "        merged[k] += dict2[k]\n",
    "    else:\n",
    "        merged[k] = dict2[k]\n",
    "print(merged)"
   ]
  },
  {
   "cell_type": "code",
   "execution_count": null,
   "id": "18709759",
   "metadata": {},
   "outputs": [],
   "source": []
  }
 ],
 "metadata": {
  "kernelspec": {
   "display_name": "Python 3",
   "language": "python",
   "name": "python3"
  },
  "language_info": {
   "codemirror_mode": {
    "name": "ipython",
    "version": 3
   },
   "file_extension": ".py",
   "mimetype": "text/x-python",
   "name": "python",
   "nbconvert_exporter": "python",
   "pygments_lexer": "ipython3",
   "version": "3.13.6"
  }
 },
 "nbformat": 4,
 "nbformat_minor": 5
}
